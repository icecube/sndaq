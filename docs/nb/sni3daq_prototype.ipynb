{
 "cells": [
  {
   "cell_type": "code",
   "execution_count": 42,
   "metadata": {},
   "outputs": [],
   "source": [
    "import numpy as np\n",
    "import timeit\n",
    "from sndaq.datahandler import DataHandler\n",
    "from sndaq.detector import Detector\n",
    "from sndaq.analysis import AnalysisHandler\n",
    "from sndaq.datetime_ns import datetime_ns as dt_ns"
   ]
  },
  {
   "cell_type": "code",
   "execution_count": 43,
   "metadata": {},
   "outputs": [],
   "source": [
    "dh = DataHandler()\n",
    "i3 = Detector('../data/config/full_dom_table.txt')\n",
    "ana = AnalysisHandler()"
   ]
  },
  {
   "cell_type": "code",
   "execution_count": 44,
   "metadata": {},
   "outputs": [
    {
     "name": "stdout",
     "output_type": "stream",
     "text": [
      "Processing ../data/sn_209058_000001_239420_529095.dat\n",
      "Processing ../data/sn_209058_000002_529096_818955.dat\n",
      "Processing ../data/sn_209058_000003_818956_1108882.dat\n",
      "Elapsed time: 554.4396316089842\n",
      "Processed time: 175.922\n"
     ]
    }
   ],
   "source": [
    "start_time = timeit.default_timer()\n",
    "dh.get_data_files('../data')\n",
    "for file in dh.files:\n",
    "    print(f'Processing {file}')\n",
    "    dh.set_file(file)\n",
    "    ### Process file\n",
    "    # Setup variables from first payload in file\n",
    "    dh.read_payload()\n",
    "    while not i3.isvalid_dom(dh.payload.dom_id):\n",
    "        dh.read_payload()\n",
    "\n",
    "    utime = dh.payload.utime\n",
    "    dh._file_start_utime = utime\n",
    "    if dh._start_utime is None and utime is not None:\n",
    "        dh._start_utime = utime\n",
    "        dh._raw_utime = np.arange(utime, utime + (dh._raw_udt * dh._staging_depth), dh._raw_udt)\n",
    "\n",
    "    while dh.payload is not None:\n",
    "        \n",
    "        # Advance buffer after 2 ms bin is ready\n",
    "        while dh.payload is not None and dh.payload.utime <= dh._raw_utime[1]:\n",
    "            idx_dom = i3.get_dom_idx(dh.payload.dom_id)\n",
    "            dh.update_buffer(idx_dom)  #Ensures first payload is added to buffer\n",
    "            dh.read_payload()\n",
    "            \n",
    "            while dh.payload is not None and not i3.isvalid_dom(dh.payload.dom_id):  # Skip IceTop\n",
    "                dh.read_payload()\n",
    "\n",
    "        if dh._pay is not None: \n",
    "            # dh._pay is None only if EOF is reached, this ensures raw bins that span files\n",
    "            # receive all contributing scalers.\n",
    "            ana.update(dh._data[:,0])\n",
    "            # Eval trigger\n",
    "            dh.advance_buffer()\n",
    "    \n",
    "    # If payload is none, then EOF reached. Close file\n",
    "    dh._file.close()\n",
    "elapsed = timeit.default_timer() - start_time\n",
    "print('Elapsed time: {0:3.6f}'.format(elapsed))\n",
    "processed = dt_ns.from_utime(dh._raw_utime[0]) -  dt_ns.from_utime(dh._start_utime)\n",
    "print('Processed time: {0:3.6f}'.format(processed.to_ns/1e9))\n",
    "print('Ratio: {0:3.6f}'.format(elapsed/(processed.to_ns/1e9)))"
   ]
  },
  {
   "cell_type": "markdown",
   "metadata": {},
   "source": [
    "### sni3daq prototype performance\n",
    "The above cells represent the prototype version of python SNDAQ\n",
    "\n",
    "Performance\n",
    "- 09/01/21: Ratio (3.152) : 3 Files (~573 MB), representing 175.92s of data, was processed in 554.43s "
   ]
  },
  {
   "cell_type": "code",
   "execution_count": null,
   "metadata": {},
   "outputs": [],
   "source": []
  }
 ],
 "metadata": {
  "kernelspec": {
   "display_name": "Python 3 (ipykernel)",
   "language": "python",
   "name": "python3"
  },
  "language_info": {
   "codemirror_mode": {
    "name": "ipython",
    "version": 3
   },
   "file_extension": ".py",
   "mimetype": "text/x-python",
   "name": "python",
   "nbconvert_exporter": "python",
   "pygments_lexer": "ipython3",
   "version": "3.7.3"
  }
 },
 "nbformat": 4,
 "nbformat_minor": 2
}
