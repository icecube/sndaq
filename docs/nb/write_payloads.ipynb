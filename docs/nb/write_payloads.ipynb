{
 "cells": [
  {
   "cell_type": "code",
   "execution_count": 1,
   "metadata": {},
   "outputs": [],
   "source": [
    "import os\n",
    "import numpy as np\n",
    "from sndaq.reader import SN_PayloadReader\n",
    "from sndaq.writer import SN_PayloadWriter, construct_payload"
   ]
  },
  {
   "cell_type": "markdown",
   "metadata": {},
   "source": [
    "#### Read one SN payload from existing file"
   ]
  },
  {
   "cell_type": "code",
   "execution_count": 2,
   "metadata": {},
   "outputs": [
    {
     "name": "stdout",
     "output_type": "stream",
     "text": [
      "Supernova@157144851073427008[dom 88ce18beda45 clk 03103a410001 scalerData*652\n"
     ]
    }
   ],
   "source": [
    "data_dir = '../../data'\n",
    "data_file = 'sn_209058_000001_239420_529095.dat'\n",
    "with SN_PayloadReader(os.path.join(data_dir, data_file)) as r:\n",
    "    pay = next(r)\n",
    "print(pay)"
   ]
  },
  {
   "cell_type": "markdown",
   "metadata": {},
   "source": [
    "#### Custom Payload construction & Writing Payloads\n",
    "Test `sndaq.writer.SN_PayloadWriter` and `sndaq.writer.construct_payloads` via the following steps\n",
    "1. Write an existing SN payload to file\n",
    "2. Construct a brand new custom SN payload\n",
    "3. Write this custom payload to file\n",
    "4. Read this file to check for equivalence\n",
    "\n",
    "__Notes__\n",
    " - Times chosen below are arbitrary for sake of example, variable names containing `utime` reflect the time of an event in UTC, since the start of the year, measured in 0.1 ns\n",
    " - Scaler counts follow a poisson distribution, `scaler_lambda` was arbitrariy selected\n",
    " - Dictionary with keys matching keyword args of construct_payload may be unpacked via **\n",
    "   - These values can just be passed as arguments to `construct_payload`, I just like using dicts for example code\n",
    " "
   ]
  },
  {
   "cell_type": "code",
   "execution_count": 3,
   "metadata": {},
   "outputs": [],
   "source": [
    "test_file = '../../data/test.dat'\n",
    "with SN_PayloadWriter(test_file, overwrite=True) as w:\n",
    "    ### Test writer against existing payload\n",
    "    w.write(pay)\n",
    "    \n",
    "    ### Test Construction of custom payload\n",
    "    \n",
    "    utime = 123456789  # Time of payload collection\n",
    "    launch_utime = 120006539  # Time of DOM power-on\n",
    "    n_scalers = 670\n",
    "    scaler_lambda = 0.8  # \n",
    "\n",
    "    \n",
    "    custom_pay_dict = {\n",
    "        'utime': utime, \n",
    "        'dom_id': 0xe9fed8c717dd,  # DOM [1-6] Chutes_and_Ladders, value equivalent to 257280767891421\n",
    "        'domclock': (utime - launch_utime)//250,  # Integer number of 25 ns clock cycles since DOM activation\n",
    "        'scalers': np.random.poisson(scaler_lambda, size=n_scalers),\n",
    "        'keep_data': True\n",
    "    }\n",
    "    \n",
    "    custom_payload = construct_payload(**custom_pay_dict)\n",
    "    \n",
    "    ### Test writer against custom payload\n",
    "    w.write(custom_payload)"
   ]
  },
  {
   "cell_type": "code",
   "execution_count": 4,
   "metadata": {},
   "outputs": [
    {
     "data": {
      "text/plain": [
       "array([( 1.,  1., -256.14, -521.08,  496.07,  47303335284587, 'i3', 0.140612),\n",
       "       ( 1.,  2., -256.14, -521.08,  479.05,  20579555797555, 'i3', 0.151956),\n",
       "       ( 1.,  3., -256.14, -521.08,  462.03, 106634453247646, 'i3', 0.168092),\n",
       "       ...,\n",
       "       (86., 58.,  -10.97,    6.72, -486.5 , 255380957221937, 'dc', 0.29648 ),\n",
       "       (86., 59.,  -10.97,    6.72, -493.51, 107432791511293, 'dc', 0.291581),\n",
       "       (86., 60.,  -10.97,    6.72, -500.83, 280205879548048, 'dc', 0.285821)],\n",
       "      dtype=[('str', '<f4'), ('i', '<f4'), ('x', '<f8'), ('y', '<f8'), ('z', '<f8'), ('mbid', '<u8'), ('type', '<U2'), ('effvol', '<f8')])"
      ]
     },
     "execution_count": 4,
     "metadata": {},
     "output_type": "execute_result"
    }
   ],
   "source": [
    "from sndaq.detector import Detector\n",
    "i3 = Detector()\n",
    "i3.dom_table"
   ]
  },
  {
   "cell_type": "code",
   "execution_count": 5,
   "metadata": {},
   "outputs": [
    {
     "data": {
      "text/plain": [
       "b'\\x00\\x00\\x88\\xce\\x18\\xbe\\xdaE\\x02\\x96\\x01,\\x03\\x10:A\\x00\\x01\\x00\\x00\\x00\\x00\\x00\\x00\\x00\\x01\\x00\\x00\\x00\\x02\\x00\\x01\\x00\\x00\\x00\\x00\\x01\\x00\\x02\\x01\\x00\\x00\\x02\\x01\\x01\\x00\\x00\\x01\\x01\\x00\\x00\\x00\\x00\\x00\\x01\\x00\\x01\\x00\\x01\\x01\\x01\\x01\\x00\\x00\\x00\\x02\\x01\\x00\\x00\\x01\\x00\\x01\\x00\\x01\\x01\\x01\\x00\\x00\\x01\\x00\\x00\\x00\\x01\\x00\\x00\\x00\\x01\\x00\\x02\\x00\\x00\\x00\\x00\\x00\\x00\\x01\\x00\\x00\\x00\\x00\\x01\\x00\\x00\\x00\\x00\\x00\\x00\\x02\\x00\\x00\\x00\\x00\\x00\\x00\\x00\\x00\\x00\\x00\\x00\\x01\\x00\\x03\\x00\\x02\\x01\\x01\\x01\\x00\\x00\\x00\\x00\\x01\\x00\\x01\\x00\\x00\\x00\\x00\\x00\\x00\\x00\\x00\\x01\\x00\\x00\\x02\\x00\\x00\\x00\\x00\\x01\\x01\\x01\\x00\\x01\\x01\\x00\\x00\\x01\\x00\\x00\\x00\\x00\\x01\\x01\\x01\\x03\\x00\\x00\\x00\\x00\\x00\\x01\\x00\\x00\\x00\\x00\\x00\\x00\\x00\\x00\\x00\\x00\\x00\\x01\\x01\\x00\\x00\\x00\\x00\\x01\\x02\\x00\\x00\\x01\\x00\\x01\\x00\\x00\\x00\\x00\\x00\\x01\\x01\\x01\\x00\\x00\\x00\\x00\\x00\\x02\\x01\\x00\\x01\\x00\\x01\\x01\\x01\\x00\\x00\\x00\\x00\\x00\\x02\\x00\\x00\\x01\\x00\\x01\\x01\\x01\\x00\\x00\\x00\\x01\\x00\\x00\\x00\\x01\\x00\\x00\\x02\\x00\\x04\\x01\\x00\\x01\\x02\\x01\\x00\\x00\\x01\\x01\\x01\\x02\\x01\\x00\\x00\\x01\\x01\\x03\\x01\\x02\\x01\\x01\\x00\\x01\\x00\\x00\\x00\\x00\\x00\\x00\\x00\\x00\\x00\\x00\\x00\\x00\\x01\\x02\\x01\\x00\\x00\\x01\\x02\\x01\\x00\\x00\\x00\\x00\\x00\\x00\\x02\\x01\\x00\\x02\\x01\\x00\\x02\\x00\\x00\\x00\\x00\\x00\\x01\\x00\\x00\\x00\\x01\\x00\\x01\\x01\\x00\\x00\\x00\\x01\\x01\\x00\\x00\\x01\\x02\\x01\\x00\\x01\\x00\\x01\\x01\\x00\\x01\\x00\\x01\\x00\\x00\\x00\\x01\\x01\\x00\\x00\\x00\\x00\\x00\\x00\\x00\\x00\\x00\\x00\\x01\\x02\\x00\\x01\\x00\\x00\\x00\\x01\\x00\\x01\\x00\\x01\\x00\\x00\\x00\\x00\\x00\\x00\\x00\\x01\\x00\\x02\\x00\\x00\\x00\\x01\\x00\\x01\\x02\\x00\\x00\\x00\\x00\\x01\\x00\\x01\\x00\\x01\\x01\\x00\\x01\\x00\\x00\\x00\\x00\\x01\\x04\\x01\\x02\\x01\\x00\\x00\\x00\\x00\\x02\\x02\\x00\\x00\\x01\\x00\\x01\\x00\\x00\\x00\\x00\\x00\\x00\\x00\\x00\\x00\\x00\\x02\\x00\\x03\\x00\\x00\\x00\\x02\\x00\\x01\\x01\\x00\\x00\\x00\\x02\\x00\\x01\\x00\\x02\\x01\\x02\\x00\\x00\\x01\\x00\\x02\\x00\\x01\\x02\\x00\\x00\\x01\\x01\\x01\\x00\\x03\\x01\\x00\\x00\\x00\\x01\\x00\\x00\\x00\\x00\\x00\\x01\\x00\\x00\\x02\\x01\\x01\\x00\\x01\\x01\\x00\\x01\\x02\\x00\\x01\\x01\\x00\\x00\\x00\\x00\\x00\\x01\\x01\\x00\\x00\\x01\\x00\\x00\\x00\\x01\\x03\\x01\\x00\\x00\\x00\\x01\\x01\\x00\\x00\\x00\\x00\\x00\\x01\\x01\\x01\\x02\\x02\\x02\\x00\\x01\\x00\\x00\\x00\\x00\\x02\\x02\\x00\\x01\\x00\\x00\\x01\\x01\\x00\\x02\\x00\\x01\\x00\\x01\\x00\\x00\\x01\\x00\\x00\\x00\\x00\\x00\\x00\\x01\\x01\\x01\\x00\\x00\\x00\\x00\\x00\\x00\\x01\\x00\\x00\\x01\\x00\\x00\\x01\\x00\\x00\\x00\\x01\\x01\\x01\\x00\\x00\\x00\\x00\\x00\\x00\\x01\\x01\\x00\\x01\\x01\\x00\\x00\\x03\\x01\\x01\\x00\\x00\\x00\\x00\\x00\\x01\\x00\\x01\\x00\\x00\\x00\\x01\\x00\\x00\\x00\\x00\\x00\\x01\\x00\\x03\\x00\\x00\\x00\\x01\\x00\\x00\\x00\\x00\\x00\\x00\\x01\\x00\\x00\\x00\\x00\\x00\\x02\\x01\\x00\\x00\\x01\\x00\\x00\\x00\\x00\\x02\\x00\\x01\\x00\\x00\\x01\\x00\\x00\\x00\\x00\\x00\\x00\\x01\\x00\\x00\\x01\\x00\\x01\\x01\\x00\\x01\\x00\\x01\\x01\\x01\\x01\\x01\\x01\\x01\\x03\\x00\\x00\\x02\\x00\\x00\\x00\\x00\\x01\\x01\\x00\\x01\\x01\\x01\\x01\\x01\\x00\\x00\\x00'"
      ]
     },
     "execution_count": 5,
     "metadata": {},
     "output_type": "execute_result"
    }
   ],
   "source": [
    "pay.data_bytes"
   ]
  },
  {
   "cell_type": "code",
   "execution_count": 6,
   "metadata": {},
   "outputs": [],
   "source": [
    "test_file = '../../data/test.dat'\n",
    "with SN_PayloadWriter(test_file, overwrite=True) as w:\n",
    "    ### Test writer against existing payload\n",
    "    w.write(pay)\n",
    "    \n",
    "    ### Test Construction of custom payload\n",
    "    \n",
    "    utime = 238749318  # Time of payload collection\n",
    "    launch_utime = 120006539  # Time of DOM power-on\n",
    "    n_scalers = 650\n",
    "    scaler_lambda = 0.8  # \n",
    "\n",
    "    \n",
    "    custom_pay_dict = {\n",
    "        'utime': utime, \n",
    "        'dom_id': 0xe9fed8c717dd,  # DOM [1-6] Chutes_and_Ladders, value equivalent to 257280767891421\n",
    "        'domclock': (utime - launch_utime)//250,  # Integer number of 25 ns clock cycles since DOM activation\n",
    "        'scalers': np.random.poisson(scaler_lambda, size=n_scalers),\n",
    "        'keep_data': True\n",
    "    }\n",
    "    \n",
    "    custom_payload = construct_payload(**custom_pay_dict)\n",
    "    \n",
    "    ### Test writer against custom payload\n",
    "    w.write(custom_payload)"
   ]
  },
  {
   "cell_type": "markdown",
   "metadata": {},
   "source": [
    "#### Sanity check via print(payload) before reading from file"
   ]
  },
  {
   "cell_type": "code",
   "execution_count": 7,
   "metadata": {},
   "outputs": [
    {
     "name": "stdout",
     "output_type": "stream",
     "text": [
      "=== Expected Custom Payload __str__ (Sanity check only, Not a test of equivalence) ===\n",
      "Supernova@238749318[dom e9fed8c717dd clk 000000073f5b scalerData*650]\n",
      "\n",
      "Supernova@238749318[dom e9fed8c717dd clk 000000073f5b scalerData*650\n"
     ]
    }
   ],
   "source": [
    "print('=== Expected Custom Payload __str__ (Sanity check only, Not a test of equivalence) ===')\n",
    "print(\"Supernova@{0:d}[dom {1:012x} clk {2:012x} scalerData*{3:d}]\\n\".format(\n",
    "    utime, custom_pay_dict['dom_id'], custom_pay_dict['domclock'], n_scalers))\n",
    "print(custom_payload)"
   ]
  },
  {
   "cell_type": "markdown",
   "metadata": {},
   "source": [
    "#### Sanity check via print(payload) after reading from file"
   ]
  },
  {
   "cell_type": "code",
   "execution_count": 8,
   "metadata": {},
   "outputs": [
    {
     "name": "stdout",
     "output_type": "stream",
     "text": [
      "Supernova@157144851073427008[dom 88ce18beda45 clk 03103a410001 scalerData*652\n",
      "Supernova@238749318[dom e9fed8c717dd clk 000000073f5b scalerData*650\n",
      "\n",
      "=== Expected Custom Payload __str__ (Sanity check only, Not a test of equivalence) ===\n",
      "Supernova@238749318[dom e9fed8c717dd clk 000000073f5b scalerData*650]\n"
     ]
    }
   ],
   "source": [
    "with SN_PayloadReader(test_file) as r:\n",
    "    while r.nrec < 2:\n",
    "        pay = next(r)\n",
    "        print(pay)\n",
    "        \n",
    "print('\\n=== Expected Custom Payload __str__ (Sanity check only, Not a test of equivalence) ===')\n",
    "print(\"Supernova@{0:d}[dom {1:012x} clk {2:012x} scalerData*{3:d}]\".format(\n",
    "    utime, custom_pay_dict['dom_id'], custom_pay_dict['domclock'], n_scalers))"
   ]
  },
  {
   "cell_type": "markdown",
   "metadata": {},
   "source": [
    "## Creating sndata for Unit-testing\n",
    "\n",
    "Real sndata.dat files are constructed taking into consideration a few principles\n",
    "1. Every payload in a .dat file is arranged in ascending time, and every .dat file is also ordered in ascending times\n",
    "2. Every sequential payload for a particular DOM has a utime that corresponds to the scaler readout immediately following the last scaler in the previous file.\n",
    " - Scalers are collected over a period of $2^{16}$ clock cycles, so in units 0.1 ns, that is $2^{16} \\times 250 = 16384000$, or 1.6384 ms.\n",
    " - In brief, each scaler is collected 1.6384 ms after the previous scaler.\n",
    " - The payload `utime` and `domclock` fields refers to the time and no. of DOM clock cycles at the first scaler in the payload\n",
    " - For DOM $i$ with first payload $p_{i,0}$, `utime` $t_{i,0}$ and $n_{i,0}$ scalers, the second payload for that DOM in the file $p_{i,1}$ will have `utime` $t_{i,1} = t_{i,0} + n_{i,0} \\times (2^{16} \\times 250)$\n",
    "3. Real sndata files collect ~190 MB of data before a new file is created\n",
    "4. Every DOM in the run configuration issues payload $n$ before any DOM issues paylaod $n+1$\n",
    "\n",
    "Committing large files is not recommended, but having some files would be useful for unit testing.\n",
    "\n",
    "A data set would look something like the following\n",
    "\n",
    " - Small size (<25MB). \n",
    "   - File size is prop. to duration and number of DOMs. Having a longer duration is more important for testing, so a test set might only need one or several strings of the detector. \n",
    " - Adheres to the file format/principles above\n",
    " - Contains specific features (Unless it is intended to represent background) that can affect trigger significance, to test trigger formation algorithm\n",
    "   - Occasionally in real data, the one or more of the conditions will not be met, and SNDAQ will handle it somewhat quietly (usually) For the sake of testing, we should assume all of these conditions to be met, unless we are making a test set to specifically examine how SNDAQ handles these circumstances."
   ]
  },
  {
   "cell_type": "code",
   "execution_count": null,
   "metadata": {},
   "outputs": [],
   "source": []
  }
 ],
 "metadata": {
  "kernelspec": {
   "display_name": "Python 3",
   "language": "python",
   "name": "python3"
  },
  "language_info": {
   "codemirror_mode": {
    "name": "ipython",
    "version": 3
   },
   "file_extension": ".py",
   "mimetype": "text/x-python",
   "name": "python",
   "nbconvert_exporter": "python",
   "pygments_lexer": "ipython3",
   "version": "3.8.5"
  }
 },
 "nbformat": 4,
 "nbformat_minor": 2
}
