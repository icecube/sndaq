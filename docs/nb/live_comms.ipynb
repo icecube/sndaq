{
 "cells": [
  {
   "cell_type": "code",
   "execution_count": 1,
   "id": "269f91a8",
   "metadata": {},
   "outputs": [],
   "source": [
    "from livecore.messaging.moniclient import ZMQMoniClient\n",
    "from livecore.util.misc import zmq_ctx \n",
    "from livecore.messaging import zmqtransport as zt\n",
    "\n",
    "import numpy as np\n",
    "\n",
    "import time\n",
    "import json"
   ]
  },
  {
   "cell_type": "code",
   "execution_count": 2,
   "id": "7bd932ac",
   "metadata": {},
   "outputs": [],
   "source": [
    "SERVICE = 'sndaq_fra'\n",
    "HOST = 'localhost'\n",
    "PORT = 5000"
   ]
  },
  {
   "cell_type": "markdown",
   "id": "550c4ff4",
   "metadata": {},
   "source": [
    "### Send FRA Status Update"
   ]
  },
  {
   "cell_type": "code",
   "execution_count": 3,
   "id": "a0161568",
   "metadata": {},
   "outputs": [
    {
     "name": "stdout",
     "output_type": "stream",
     "text": [
      "{\n",
      "    \"prio\": 3,\n",
      "    \"service\": \"sndaq_fra\",\n",
      "    \"t\": \"2023-06-26 20:40:39.774222\",\n",
      "    \"value\": \"QUEUED\",\n",
      "    \"varname\": \"sndaq_fr_info\"\n",
      "}\n",
      "{\n",
      "    \"prio\": 3,\n",
      "    \"service\": \"sndaq_fra\",\n",
      "    \"t\": \"2023-06-26 20:40:39.874481\",\n",
      "    \"value\": \"IN PROGRESS\",\n",
      "    \"varname\": \"sndaq_fr_info\"\n",
      "}\n",
      "{\n",
      "    \"prio\": 3,\n",
      "    \"service\": \"sndaq_fra\",\n",
      "    \"t\": \"2023-06-26 20:40:39.974684\",\n",
      "    \"value\": \"SUCCESS\",\n",
      "    \"varname\": \"sndaq_fr_info\"\n",
      "}\n"
     ]
    }
   ],
   "source": [
    "sndaq_fra_status = ['QUEUED', 'IN PROGRESS', 'SUCCESS', 'FAIL']\n",
    "status = sndaq_fra_status[1]\n",
    "\n",
    "# Using zmq_ctx, the object given as args[0] will be initialized using the provided kwargs. \n",
    "with zmq_ctx(zt.ZMQReceiverQueue, port=PORT, poll_msec=0) as listener:\n",
    "    with zmq_ctx(ZMQMoniClient, svc=SERVICE, moni_host=HOST, moni_port=PORT) as sender:\n",
    "        # QUEUED\n",
    "        sender.send_moni(\n",
    "            varname='sndaq_fr_info',\n",
    "            prio=3,\n",
    "            value=sndaq_fra_status[0]\n",
    "        )\n",
    "        time.sleep(0.1)\n",
    "        \n",
    "        # IN PROGRESS\n",
    "        sender.send_moni(\n",
    "            varname='sndaq_fr_info',\n",
    "            prio=3,\n",
    "            value=sndaq_fra_status[1]\n",
    "        )\n",
    "        time.sleep(0.1)   \n",
    "        \n",
    "        # SUCCESS\n",
    "        sender.send_moni(\n",
    "            varname='sndaq_fr_info',\n",
    "            prio=3,\n",
    "            value=sndaq_fra_status[2]\n",
    "        )\n",
    "        time.sleep(0.1)\n",
    "        \n",
    "    # Get messages sent before context closes\n",
    "    msgs = listener.msgs()\n",
    "for msg in msgs:\n",
    "    print(json.dumps(msg, sort_keys=True, indent=4))"
   ]
  },
  {
   "cell_type": "markdown",
   "id": "64ae344f",
   "metadata": {},
   "source": [
    "### Send FRA Result"
   ]
  },
  {
   "cell_type": "markdown",
   "id": "c85b756d",
   "metadata": {},
   "source": [
    "The following function was taken from i3Live ([link](https://github.com/WIPACrepo/IceCube-Live/blob/4d81046d5668d9d5191f8f47be47d7b429593393/live/util/misc.py#LL48C13-L48C13))"
   ]
  },
  {
   "cell_type": "code",
   "execution_count": 4,
   "id": "da3c3a87",
   "metadata": {},
   "outputs": [],
   "source": [
    "import struct\n",
    "import time\n",
    "import binascii\n",
    "from threading import Lock\n",
    "\n",
    "class IdGen:\n",
    "    '''\n",
    "    This class allows to generate unique 14 char alphanumeric IDs.\n",
    "    Examples: \"55e5c5b7886dae\", \"55e5d264888771\"\n",
    "    These IDs are used to tag messages from LiveControl, and track\n",
    "    web-generated hitspool requests.\n",
    "    '''\n",
    "    def __init__(self, init_increm=0):\n",
    "        '''\n",
    "        Note: the initial increment value can be passed to this constructor.\n",
    "        '''\n",
    "        self.increm = init_increm\n",
    "        self.increm_lock = Lock()\n",
    "\n",
    "    def generate_id(self):\n",
    "        '''\n",
    "        ID generation method. The algorithm is based on MongoDB's ObjectId\n",
    "        generation, just shorter as it doesn't include the uid or machine\n",
    "        identifier. Collision chances remain extremely low.\n",
    "        http://docs.mongodb.org/manual/reference/object-id/\n",
    "        '''\n",
    "        x = struct.pack('>i', int(time.time()))\n",
    "        with self.increm_lock:\n",
    "            x += struct.pack('>i', self.increm)[1:4]\n",
    "            self.increm = (self.increm + 1) % 0xFFFFFF\n",
    "        return binascii.hexlify(x).decode()"
   ]
  },
  {
   "cell_type": "code",
   "execution_count": null,
   "id": "e3837215",
   "metadata": {},
   "outputs": [],
   "source": []
  },
  {
   "cell_type": "code",
   "execution_count": 5,
   "id": "15e128cd",
   "metadata": {},
   "outputs": [],
   "source": [
    "# Generate Placeholder Alert\n",
    "t = np.arange(-120, 240, 2) / 1e3\n",
    "hits = np.abs(np.random.normal(1, 0.5, t.size))\n",
    "lightcurve = [[_t, r] for _t,r in zip(t, hits)]\n",
    "\n",
    "gen = IdGen()\n",
    "request_id = gen.generate_id()\n",
    "data = {\n",
    "    'data':{\n",
    "        \"desc\":\"FRA Trigger\",\n",
    "        \"server\":\"2ndbuild.sps.icecube.southpole.usap.gov\",\n",
    "        \"trigger_time_ns\": 12345673910111213,\n",
    "        \"lightcurve_start_ns\": 12345670910111213,\n",
    "        \"lightcurve_end_ns\":  12345679910111213,\n",
    "        \"year\": 2023,\n",
    "        \"chi2\": 5245.0,\n",
    "        \"chi2prob\": 0.607,\n",
    "        \"active_channels\": 5074,\n",
    "        \"analysis_bin_size_s\": 0.002,\n",
    "        \"signal\": 3.6,\n",
    "        \"signal_error\": 0.59,\n",
    "        \"xi_uncorr\": 6.1,\n",
    "        \"xi_corr\": 4.9,\n",
    "        \"corrected_sig_muon_rate\":161.3,\n",
    "        \"corrected_sig_muon_trig_rate\":8.63,\n",
    "        \"run_number\":123456,\n",
    "        \"request_number\": 6,\n",
    "        \"id\": request_id\n",
    "    },\n",
    "    \"lightcurve\" : {\n",
    "        \"2\": {\n",
    "            \"data\": lightcurve,\n",
    "            \"offset_ms\":0},\n",
    "    }\n",
    "}"
   ]
  },
  {
   "cell_type": "code",
   "execution_count": 6,
   "id": "f8b2da5c",
   "metadata": {},
   "outputs": [
    {
     "name": "stdout",
     "output_type": "stream",
     "text": [
      "{\n",
      "    \"prio\": 3,\n",
      "    \"service\": \"sndaq_fra\",\n",
      "    \"t\": \"2023-06-26 20:40:40.141486\",\n",
      "    \"value\": \"{\\\"data\\\": {\\\"desc\\\": \\\"FRA Trigger\\\", \\\"server\\\": \\\"2ndbuild.sps.icecube.southpole.usap.gov\\\", \\\"trigger_time_ns\\\": 12345673910111213, \\\"lightcurve_start_ns\\\": 12345670910111213, \\\"lightcurve_end_ns\\\": 12345679910111213, \\\"year\\\": 2023, \\\"chi2\\\": 5245.0, \\\"chi2prob\\\": 0.607, \\\"active_channels\\\": 5074, \\\"analysis_bin_size_s\\\": 0.002, \\\"signal\\\": 3.6, \\\"signal_error\\\": 0.59, \\\"xi_uncorr\\\": 6.1, \\\"xi_corr\\\": 4.9, \\\"corrected_sig_muon_rate\\\": 161.3, \\\"corrected_sig_muon_trig_rate\\\": 8.63, \\\"run_number\\\": 123456, \\\"request_number\\\": 6, \\\"id\\\": \\\"6499f7c8000000\\\"}, \\\"lightcurve\\\": {\\\"2\\\": {\\\"data\\\": [[-0.12, 1.0900851382303525], [-0.118, 1.1364523429152085], [-0.116, 0.7562397629731014], [-0.114, 1.141856052020671], [-0.112, 0.5936305773689177], [-0.11, 0.4404724476512799], [-0.108, 0.8865617531487731], [-0.106, 1.4520131116971982], [-0.104, 1.7873551900581446], [-0.102, 1.4007025400987652], [-0.1, 1.1634494508450262], [-0.098, 0.25126346120619836], [-0.096, 1.5539404352659596], [-0.094, 0.8869309245381636], [-0.092, 1.4412391846692472], [-0.09, 0.9309463795253508], [-0.088, 0.3189524918756085], [-0.086, 1.4592762401221555], [-0.084, 1.1878102211894583], [-0.082, 1.6732308673205791], [-0.08, 1.194939994484437], [-0.078, 1.1586795868986215], [-0.076, 1.7737815844202007], [-0.074, 0.015246211623938799], [-0.072, 1.4506916727048125], [-0.07, 1.202729006879255], [-0.068, 1.7184003249618232], [-0.066, 1.0733701803741778], [-0.064, 1.064638676743187], [-0.062, 0.5910655270372012], [-0.06, 0.3328729043145251], [-0.058, 1.370907809214139], [-0.056, 1.3282330695183426], [-0.054, 0.8018443412324676], [-0.052, 0.8383908372147141], [-0.05, 1.5170299975440926], [-0.048, 0.7929911419922142], [-0.046, 1.0430587505207858], [-0.044, 0.42513984151951945], [-0.042, 0.8948100652787101], [-0.04, 0.46897931799934023], [-0.038, 0.9675169532926313], [-0.036, 0.6480225429865125], [-0.034, 0.3490140212820587], [-0.032, 0.2629255031936074], [-0.03, 1.5938635593301638], [-0.028, 1.2818015341732256], [-0.026, 1.681358034652979], [-0.024, 1.083131998764227], [-0.022, 1.8670278357930656], [-0.02, 0.8292062702186371], [-0.018, 1.1087394344307309], [-0.016, 0.4875982726854785], [-0.014, 0.35749944954909063], [-0.012, 0.5095669624948217], [-0.01, 1.6034741795598366], [-0.008, 1.1343731943118076], [-0.006, 1.2819556575289153], [-0.004, 0.5433527455053184], [-0.002, 1.1380067068388322], [0.0, 1.4908881626142176], [0.002, 1.5448672828446055], [0.004, 0.2711120534563284], [0.006, 0.5558354115964275], [0.008, 0.9723778662995031], [0.01, 1.244090153005931], [0.012, 1.251209406224527], [0.014, 1.1792838169126627], [0.016, 0.7228368767517531], [0.018, 0.4585424965759981], [0.02, 1.0406422925493388], [0.022, 1.1003953810816647], [0.024, 0.5120694582241886], [0.026, 1.1244258388332928], [0.028, 0.7909531625331286], [0.03, 0.44939050849241724], [0.032, 0.46356720015375596], [0.034, 1.126979693816511], [0.036, 0.6429156688337175], [0.038, 1.5867603085421016], [0.04, 0.2583118740154645], [0.042, 0.40379013389501883], [0.044, 1.7499657417883494], [0.046, 0.46567018240206837], [0.048, 1.1099083256817408], [0.05, 0.8205812675648847], [0.052, 1.6476383506105423], [0.054, 0.7410345677861613], [0.056, 0.5112628593326928], [0.058, 0.7409545496842966], [0.06, 1.3586817189586875], [0.062, 0.4609565221701425], [0.064, 0.3196361414962835], [0.066, 1.194218341663165], [0.068, 1.465053656766131], [0.07, 1.5926091934269349], [0.072, 0.3395080254952265], [0.074, 1.8582261434301413], [0.076, 1.2505710850286498], [0.078, 1.1698164675823828], [0.08, 0.5709034396924839], [0.082, 0.8430853280681276], [0.084, 1.5430936531200046], [0.086, 1.5353774836969274], [0.088, 0.9216326498362667], [0.09, 1.2617599484556221], [0.092, 0.6150623598332355], [0.094, 1.2747884365106392], [0.096, 1.9104974228762384], [0.098, 1.6476448253784333], [0.1, 1.1876886439211631], [0.102, 0.4196681584118682], [0.104, 0.4666134298575605], [0.106, 1.1030575430671625], [0.108, 1.0114206083465045], [0.11, 0.700049098074081], [0.112, 1.4156083946484717], [0.114, 0.8725586647198199], [0.116, 0.5230765465844601], [0.118, 0.07210272416968233], [0.12, 0.8485780503955257], [0.122, 0.966308261051652], [0.124, 1.0939912134122636], [0.126, 1.3661012003210802], [0.128, 1.1081542305946677], [0.13, 0.20422505594065732], [0.132, 0.7055424674029107], [0.134, 2.2772712219968714], [0.136, 0.9255853183149557], [0.138, 1.6584845886046906], [0.14, 2.4096051607326014], [0.142, 1.4763067599957744], [0.144, 0.80061056977815], [0.146, 1.5911149187093563], [0.148, 1.0517809408548169], [0.15, 1.0306562117095814], [0.152, 1.402965384867826], [0.154, 0.11392087966758169], [0.156, 1.2356416557665182], [0.158, 1.1568750707963795], [0.16, 0.757499304256087], [0.162, 0.5528613355259957], [0.164, 1.3216909655399833], [0.166, 0.9020615198123458], [0.168, 1.17014996207855], [0.17, 1.2718826489368815], [0.172, 0.3006092882206627], [0.174, 0.845476448607067], [0.176, 0.8401431395204492], [0.178, 1.3316536915337835], [0.18, 1.1771780915988783], [0.182, 0.7546857632510432], [0.184, 1.5677129340557245], [0.186, 1.310632187086872], [0.188, 1.3467476108774494], [0.19, 1.0916661535612209], [0.192, 0.8460769394074634], [0.194, 1.59312232117946], [0.196, 1.2004108409574499], [0.198, 1.0577646033626058], [0.2, 1.0038968182778683], [0.202, 0.4189391088028577], [0.204, 0.8880933768597131], [0.206, 0.8363176917838868], [0.208, 0.2388748776192895], [0.21, 1.1824685131124997], [0.212, 0.5066200123049565], [0.214, 0.8664358402896194], [0.216, 1.1212606937135718], [0.218, 1.6056821299159014], [0.22, 1.5537259581364893], [0.222, 1.9666011746812493], [0.224, 1.6157222559665618], [0.226, 0.9501287412534412], [0.228, 1.2126182808623416], [0.23, 1.0624257139219782], [0.232, 1.0263568268748462], [0.234, 0.10190597505869337], [0.236, 0.6569010545013111], [0.238, 0.6637073262152783]], \\\"offset_ms\\\": 0}}}\",\n",
      "    \"varname\": \"sndaq_fr_info\"\n",
      "}\n"
     ]
    }
   ],
   "source": [
    "# Using zmq_ctx, the object given as args[0] will be initialized using the provided kwargs. \n",
    "with zmq_ctx(zt.ZMQReceiverQueue, port=PORT, poll_msec=100) as listener:\n",
    "    with zmq_ctx(ZMQMoniClient, svc=SERVICE, moni_host=HOST, moni_port=PORT) as sender:\n",
    "        sender.send_moni(\n",
    "            varname='sndaq_fr_info',\n",
    "            prio=3,\n",
    "            value=json.dumps(data)\n",
    "        )\n",
    "\n",
    "    # Get messages sent\n",
    "    msgs = listener.msgs()\n",
    "for msg in msgs:\n",
    "    print(json.dumps(msg, sort_keys=True, indent=4))"
   ]
  }
 ],
 "metadata": {
  "kernelspec": {
   "display_name": "Python 3 (ipykernel)",
   "language": "python",
   "name": "python3"
  },
  "language_info": {
   "codemirror_mode": {
    "name": "ipython",
    "version": 3
   },
   "file_extension": ".py",
   "mimetype": "text/x-python",
   "name": "python",
   "nbconvert_exporter": "python",
   "pygments_lexer": "ipython3",
   "version": "3.7.3"
  }
 },
 "nbformat": 4,
 "nbformat_minor": 5
}
