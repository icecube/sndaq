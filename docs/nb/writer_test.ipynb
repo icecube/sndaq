{
 "cells": [
  {
   "cell_type": "markdown",
   "metadata": {},
   "source": [
    "# Creating Payloads with `SN_PayloadWriter`"
   ]
  },
  {
   "cell_type": "code",
   "execution_count": 1,
   "metadata": {},
   "outputs": [],
   "source": [
    "from sndaq.writer import SN_PayloadWriter\n",
    "from sndaq.reader import SN_PayloadReader"
   ]
  },
  {
   "cell_type": "markdown",
   "metadata": {},
   "source": [
    "## Test Writer\n",
    "\n",
    "Instantiante writer class, provide new (blank) file.\n",
    "\n",
    "Call `SN_PayloadWriter.makefile()`, request one string (1).\n",
    "\n",
    "Call `SN_PayloadWriter.status()`, returning file attributes (size, # payloads, # payload series)."
   ]
  },
  {
   "cell_type": "code",
   "execution_count": 2,
   "metadata": {},
   "outputs": [
    {
     "name": "stdout",
     "output_type": "stream",
     "text": [
      "File size: 20.000332 MB, Number of Payloads: 41323, Number of Payload Series: 688\n"
     ]
    }
   ],
   "source": [
    "with SN_PayloadWriter('12345test', overwrite=True) as w:\n",
    "    w.makefile(requested_doms={'str': 1})\n",
    "    w.status()"
   ]
  },
  {
   "cell_type": "markdown",
   "metadata": {},
   "source": [
    "## Check Payloads\n",
    "\n",
    "Using `SN_PayloadReader`, check the first 10 payloads contained within the newly created file."
   ]
  },
  {
   "cell_type": "code",
   "execution_count": 3,
   "metadata": {},
   "outputs": [
    {
     "name": "stdout",
     "output_type": "stream",
     "text": [
      "Supernova@123456789[dom 2b05aa7f0f6b clk 0000000035e9 scalerData*450\n",
      "Supernova@123456789[dom 12b78d1cea33 clk 0000000035e9 scalerData*450\n",
      "Supernova@123456789[dom 60fbc4b4e69e clk 0000000035e9 scalerData*450\n",
      "Supernova@123456789[dom cd5d58344001 clk 0000000035e9 scalerData*450\n",
      "Supernova@123456789[dom 12a7eb4ed898 clk 0000000035e9 scalerData*450\n",
      "Supernova@123456789[dom e9fed8c717dd clk 0000000035e9 scalerData*450\n",
      "Supernova@123456789[dom 0807b60648b0 clk 0000000035e9 scalerData*450\n",
      "Supernova@123456789[dom 88f9c6ed4483 clk 0000000035e9 scalerData*450\n",
      "Supernova@123456789[dom 9486d3ddbece clk 0000000035e9 scalerData*450\n",
      "Supernova@123456789[dom 7184d2aa2470 clk 0000000035e9 scalerData*450\n"
     ]
    }
   ],
   "source": [
    "with SN_PayloadReader('12345test') as r:\n",
    "    while r.nrec < 10:\n",
    "        pay = next(r)\n",
    "        print(pay)"
   ]
  }
 ],
 "metadata": {
  "kernelspec": {
   "display_name": "Python 3",
   "language": "python",
   "name": "python3"
  },
  "language_info": {
   "codemirror_mode": {
    "name": "ipython",
    "version": 3
   },
   "file_extension": ".py",
   "mimetype": "text/x-python",
   "name": "python",
   "nbconvert_exporter": "python",
   "pygments_lexer": "ipython3",
   "version": "3.8.5"
  }
 },
 "nbformat": 4,
 "nbformat_minor": 4
}
