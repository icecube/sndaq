{
 "cells": [
  {
   "cell_type": "code",
   "execution_count": 1,
   "id": "00de0e97",
   "metadata": {},
   "outputs": [],
   "source": [
    "import sndaq.util.legacy.sndata as snl\n",
    "import numpy as np"
   ]
  },
  {
   "cell_type": "code",
   "execution_count": 2,
   "id": "7e83c9c7",
   "metadata": {},
   "outputs": [],
   "source": [
    "user_live = 'REDACTED'\n",
    "pass_live = 'REDACTED'\n",
    "user_ldap = 'REDACTED'"
   ]
  },
  {
   "cell_type": "code",
   "execution_count": 3,
   "id": "3d5abc9b",
   "metadata": {},
   "outputs": [
    {
     "data": {
      "text/plain": [
       "{'run_number': 137104,\n",
       " 'status': 'SUCCESS',\n",
       " 'config': 'sps-IC86-2022-DMIce-chargestamp-V309',\n",
       " 'lightmode': 'dark',\n",
       " 'run_mode': 'PhysicsTrig',\n",
       " 'filter_mode': 'PhysicsFiltering',\n",
       " 'pDAQ_release': 'Akupara5_16608:185361:',\n",
       " 'live_start': '2022-09-30 18:04:31',\n",
       " 'start': '2022-09-30 18:05:06',\n",
       " 'start_frac': 4033675423,\n",
       " 'precise_start_available': True,\n",
       " 'stop': '2022-10-01 02:05:05',\n",
       " 'stop_frac': 1136764904,\n",
       " 'precise_stop_available': True,\n",
       " 'grl_start': None,\n",
       " 'grl_start_frac': None,\n",
       " 'grl_stop': None,\n",
       " 'grl_stop_frac': None,\n",
       " 'switched_start': False,\n",
       " 'latest_snapshot': None}"
      ]
     },
     "execution_count": 3,
     "metadata": {},
     "output_type": "execute_result"
    }
   ],
   "source": [
    "run_info = snl.get_run_info(137104, USER=user_live, PASS=pass_live)\n",
    "run_info"
   ]
  },
  {
   "cell_type": "code",
   "execution_count": 4,
   "id": "d4b01a65",
   "metadata": {},
   "outputs": [
    {
     "data": {
      "text/plain": [
       "{'_id': '633732b5129c8b',\n",
       " 'service': 'sndaq',\n",
       " 'varname': 'significance',\n",
       " 'value': 5.33634,\n",
       " 'prio': 1,\n",
       " 'time': '2022-09-30 18:17:24.818526',\n",
       " 'insert_time': '2022-09-30 18:17:35.852207'}"
      ]
     },
     "execution_count": 4,
     "metadata": {},
     "output_type": "execute_result"
    }
   ],
   "source": [
    "cand_live = snl.get_cands_from_live(137104, USER=user_live, PASS=pass_live)\n",
    "cand_live[0]"
   ]
  },
  {
   "cell_type": "code",
   "execution_count": 5,
   "id": "aa925ec9",
   "metadata": {},
   "outputs": [
    {
     "data": {
      "text/plain": [
       "{'time': numpy.datetime64('2022-09-30T18:06:47'),\n",
       " 'xi': 5.33634,\n",
       " 'ana': 1,\n",
       " 'trigger': 1,\n",
       " 'cand': 1}"
      ]
     },
     "execution_count": 5,
     "metadata": {},
     "output_type": "execute_result"
    }
   ],
   "source": [
    "log_dir = './logs/'\n",
    "cand_logs = snl.get_cands_from_log(137104, user_live, pass_live, user_ldap)\n",
    "cand_logs[0]"
   ]
  },
  {
   "cell_type": "code",
   "execution_count": 6,
   "id": "0bb8c833",
   "metadata": {},
   "outputs": [
    {
     "data": {
      "text/plain": [
       "{'cand_no': 1,\n",
       " 'Corr': <TGraph (version 4) at 0x7f55f4b0a4a8>,\n",
       " 'DeCorr': <TGraph (version 4) at 0x7f55f4abae80>,\n",
       " 'Corr_500': <TGraph (version 4) at 0x7f55f4abad30>,\n",
       " 'DeCorr_500': <TGraph (version 4) at 0x7f55f4b489b0>}"
      ]
     },
     "execution_count": 6,
     "metadata": {},
     "output_type": "execute_result"
    }
   ],
   "source": [
    "sndata_file = './data/rundata/SPS/sndata_137104_000.root'\n",
    "cand_data = snl.get_cands_from_sndata(sndata_file)\n",
    "cand_data[0]"
   ]
  },
  {
   "cell_type": "code",
   "execution_count": 7,
   "id": "6dd22387",
   "metadata": {},
   "outputs": [],
   "source": [
    "def combine_cands(cand_live, cand_log, cand_data, *, tol=1e-5):\n",
    "    try:\n",
    "        assert(len(cand_live) == len(cand_log) == len(cand_data))\n",
    "    except AssertionError:\n",
    "        raise ValueError(\"Candidate sources must have equal lengths,\"\n",
    "                         f\"given ({len(cand_live)} {len(cand_log)} {len(cand_data)}\")\n",
    "    data = []\n",
    "    for i, (live, log, sndata) in enumerate(zip(cand_live, cand_log, cand_data)):\n",
    "        xi_sndaq = sndata['Corr'].values()[1]\n",
    "        diff_live = np.abs((log['xi'] - live['value'])/log['xi'])\n",
    "        diff_sndaq = np.abs(xi_sndaq - log['xi']).min()/log['xi']\n",
    "        \n",
    "        try:\n",
    "            assert(diff_live < tol and diff_sndaq < tol)\n",
    "        except AssertionError:\n",
    "            raise ValueError(f\"Candidate {i:<3d} has differing xi greater than tolerance!\")\n",
    "        \n",
    "        data.append({\n",
    "            'trigger_time' : log['time'],\n",
    "            'nh_alert_time' : live['time'],\n",
    "            'xi' : xi_sndaq[np.abs(xi_sndaq - log['xi']).argmin()],\n",
    "            'ana' : log['ana'],\n",
    "            'trigger_no' : log['trigger'],\n",
    "            'cand_no' : log['cand'],\n",
    "        })\n",
    "    return data"
   ]
  },
  {
   "cell_type": "code",
   "execution_count": 10,
   "id": "2ea98129",
   "metadata": {
    "scrolled": false
   },
   "outputs": [
    {
     "data": {
      "text/plain": [
       "{'trigger_time': numpy.datetime64('2022-09-30T18:06:47'),\n",
       " 'nh_alert_time': '2022-09-30 18:17:24.818526',\n",
       " 'xi': 5.336336869863762,\n",
       " 'ana': 1,\n",
       " 'trigger_no': 1,\n",
       " 'cand_no': 1}"
      ]
     },
     "execution_count": 10,
     "metadata": {},
     "output_type": "execute_result"
    }
   ],
   "source": [
    "cands = combine_cands(cand_live, cand_logs, cand_data)\n",
    "cands[0]"
   ]
  },
  {
   "cell_type": "code",
   "execution_count": 9,
   "id": "332b3789",
   "metadata": {},
   "outputs": [],
   "source": [
    "import pickle\n",
    "with open('cands_137104.pickle', 'wb') as f:\n",
    "    pickle.dump(cands, f)"
   ]
  }
 ],
 "metadata": {
  "kernelspec": {
   "display_name": "Python 3 (ipykernel)",
   "language": "python",
   "name": "python3"
  },
  "language_info": {
   "codemirror_mode": {
    "name": "ipython",
    "version": 3
   },
   "file_extension": ".py",
   "mimetype": "text/x-python",
   "name": "python",
   "nbconvert_exporter": "python",
   "pygments_lexer": "ipython3",
   "version": "3.7.3"
  }
 },
 "nbformat": 4,
 "nbformat_minor": 5
}
