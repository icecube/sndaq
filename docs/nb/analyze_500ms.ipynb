{
 "cells": [
  {
   "cell_type": "code",
   "execution_count": 16,
   "id": "d5c85804",
   "metadata": {},
   "outputs": [],
   "source": [
    "import numpy as np\n",
    "from sndaq.analysis import AnalysisHandler, AnalysisConfig"
   ]
  },
  {
   "cell_type": "markdown",
   "id": "86be9332",
   "metadata": {},
   "source": [
    "## Setup Analyses and Storage"
   ]
  },
  {
   "cell_type": "code",
   "execution_count": 21,
   "id": "3b0700cf",
   "metadata": {},
   "outputs": [],
   "source": [
    "ana_conf = AnalysisConfig.from_config(conf_path='../../data/config/analysis.config')\n",
    "ana = AnalysisHandler(config=ana_conf)\n",
    "\n",
    "ndom = 5160\n",
    "nbins_window = 400  # 200 s of rates in 0.5s bins\n",
    "nbins_trigger = int((ana.config.duration_nosearch + 3*max(ana._binnings)) / 500 - 1)\n",
    "nbins_fill_trailing = nbins_trigger - int(ana.config.duration_nosearch/2 /500)\n",
    "nbins_fill_leading = nbins_trigger - nbins_fill_trailing - nbins_window\n",
    "\n",
    "dom_bkg_mu = 140\n",
    "dom_bkg_sig = 22\n",
    "\n",
    "rate_500ms = np.zeros(shape=(nbins_window, ndom), dtype=np.uint16)\n",
    "signi = np.zeros(shape=(nbins_window, len(ana.analyses)), dtype=float)\n",
    "\n",
    "filler = None\n",
    "np.random.seed(42)"
   ]
  },
  {
   "cell_type": "markdown",
   "id": "9825925e",
   "metadata": {},
   "source": [
    "## Generate samples"
   ]
  },
  {
   "cell_type": "code",
   "execution_count": 20,
   "id": "4328b42e",
   "metadata": {},
   "outputs": [
    {
     "ename": "IndexError",
     "evalue": "index 1378 is out of bounds for axis 0 with size 1319",
     "output_type": "error",
     "traceback": [
      "\u001b[0;31m---------------------------------------------------------------------------\u001b[0m",
      "\u001b[0;31mIndexError\u001b[0m                                Traceback (most recent call last)",
      "Cell \u001b[0;32mIn[20], line 9\u001b[0m\n\u001b[1;32m      7\u001b[0m     rate \u001b[38;5;241m=\u001b[39m np\u001b[38;5;241m.\u001b[39mrandom\u001b[38;5;241m.\u001b[39mnormal(dom_bkg_mu, dom_bkg_sig, size\u001b[38;5;241m=\u001b[39mndom)\u001b[38;5;241m.\u001b[39mastype(np\u001b[38;5;241m.\u001b[39muint32)\n\u001b[1;32m      8\u001b[0m     ana\u001b[38;5;241m.\u001b[39mbuffer_analysis\u001b[38;5;241m.\u001b[39mappend(rate)\n\u001b[0;32m----> 9\u001b[0m     \u001b[43mana\u001b[49m\u001b[38;5;241;43m.\u001b[39;49m\u001b[43mupdate_analyses\u001b[49m\u001b[43m(\u001b[49m\u001b[43m)\u001b[49m\n\u001b[1;32m     11\u001b[0m \u001b[38;5;66;03m# Feed bins of followup window (100 s)\u001b[39;00m\n\u001b[1;32m     12\u001b[0m \u001b[38;5;28;01mfor\u001b[39;00m i \u001b[38;5;129;01min\u001b[39;00m \u001b[38;5;28mrange\u001b[39m(nbins_window):\n",
      "File \u001b[0;32m~/Documents/IceCube/sndaq/pysndaq/python/sndaq/analysis.py:368\u001b[0m, in \u001b[0;36mAnalysisHandler.update_analyses\u001b[0;34m(self)\u001b[0m\n\u001b[1;32m    365\u001b[0m \u001b[38;5;250m\u001b[39m\u001b[38;5;124;03m\"\"\"Update SICO sums and computed quantities for all analyses\u001b[39;00m\n\u001b[1;32m    366\u001b[0m \u001b[38;5;124;03m\"\"\"\u001b[39;00m\n\u001b[1;32m    367\u001b[0m \u001b[38;5;28;01mfor\u001b[39;00m analysis \u001b[38;5;129;01min\u001b[39;00m \u001b[38;5;28mself\u001b[39m\u001b[38;5;241m.\u001b[39manalyses:\n\u001b[0;32m--> 368\u001b[0m     \u001b[38;5;28;43mself\u001b[39;49m\u001b[38;5;241;43m.\u001b[39;49m\u001b[43mupdate_sums\u001b[49m\u001b[43m(\u001b[49m\u001b[43manalysis\u001b[49m\u001b[43m)\u001b[49m\n\u001b[1;32m    370\u001b[0m     \u001b[38;5;28;01mif\u001b[39;00m analysis\u001b[38;5;241m.\u001b[39mis_updatable:\n\u001b[1;32m    371\u001b[0m         \u001b[38;5;28;01mif\u001b[39;00m analysis\u001b[38;5;241m.\u001b[39mis_online:\n",
      "File \u001b[0;32m~/Documents/IceCube/sndaq/pysndaq/python/sndaq/analysis.py:390\u001b[0m, in \u001b[0;36mAnalysisHandler.update_sums\u001b[0;34m(self, analysis)\u001b[0m\n\u001b[1;32m    386\u001b[0m     analysis\u001b[38;5;241m.\u001b[39mn \u001b[38;5;241m+\u001b[39m\u001b[38;5;241m=\u001b[39m \u001b[38;5;241m1\u001b[39m  \u001b[38;5;66;03m# Update until analysis.is_online returns true\u001b[39;00m\n\u001b[1;32m    388\u001b[0m \u001b[38;5;28;01mif\u001b[39;00m analysis\u001b[38;5;241m.\u001b[39mis_updatable:\n\u001b[1;32m    389\u001b[0m     \u001b[38;5;66;03m# TODO: Find better names for these\u001b[39;00m\n\u001b[0;32m--> 390\u001b[0m     add_to_bgl \u001b[38;5;241m=\u001b[39m \u001b[38;5;28;43mself\u001b[39;49m\u001b[38;5;241;43m.\u001b[39;49m\u001b[43mbuffer_analysis\u001b[49m\u001b[43m[\u001b[49m\u001b[43manalysis\u001b[49m\u001b[38;5;241;43m.\u001b[39;49m\u001b[43midx_addbgl\u001b[49m\u001b[43m]\u001b[49m\u001b[38;5;241m.\u001b[39msum(axis\u001b[38;5;241m=\u001b[39m\u001b[38;5;241m0\u001b[39m)\n\u001b[1;32m    391\u001b[0m     sub_from_bgl \u001b[38;5;241m=\u001b[39m \u001b[38;5;28mself\u001b[39m\u001b[38;5;241m.\u001b[39mbuffer_analysis[analysis\u001b[38;5;241m.\u001b[39midx_subbgl]\u001b[38;5;241m.\u001b[39msum(axis\u001b[38;5;241m=\u001b[39m\u001b[38;5;241m0\u001b[39m)\n\u001b[1;32m    393\u001b[0m     add_to_bgt \u001b[38;5;241m=\u001b[39m \u001b[38;5;28mself\u001b[39m\u001b[38;5;241m.\u001b[39mbuffer_analysis[analysis\u001b[38;5;241m.\u001b[39midx_addbgt]\u001b[38;5;241m.\u001b[39msum(axis\u001b[38;5;241m=\u001b[39m\u001b[38;5;241m0\u001b[39m)\n",
      "File \u001b[0;32m~/Documents/IceCube/sndaq/pysndaq/python/sndaq/buffer.py:90\u001b[0m, in \u001b[0;36mwindowbuffer.__getitem__\u001b[0;34m(self, key)\u001b[0m\n\u001b[1;32m     89\u001b[0m \u001b[38;5;28;01mdef\u001b[39;00m \u001b[38;5;21m__getitem__\u001b[39m(\u001b[38;5;28mself\u001b[39m, key):\n\u001b[0;32m---> 90\u001b[0m     \u001b[38;5;28;01mreturn\u001b[39;00m \u001b[38;5;28;43mself\u001b[39;49m\u001b[38;5;241;43m.\u001b[39;49m\u001b[43mdata\u001b[49m\u001b[43m[\u001b[49m\u001b[43mkey\u001b[49m\u001b[43m]\u001b[49m\n",
      "\u001b[0;31mIndexError\u001b[0m: index 1378 is out of bounds for axis 0 with size 1319"
     ]
    }
   ],
   "source": [
    "n_samples = 100\n",
    "xi = np.zeros(n_samples)\n",
    "for idx in range(n_samples):\n",
    "\n",
    "    # Feed bins ahead of followup window\n",
    "    for i in range(nbins_fill_trailing):\n",
    "        rate = np.random.normal(dom_bkg_mu, dom_bkg_sig, size=ndom).astype(np.uint32)\n",
    "        ana.buffer_analysis.append(rate)\n",
    "        ana.update_analyses()\n",
    "\n",
    "    # Feed bins of followup window (100 s)\n",
    "    for i in range(nbins_window):\n",
    "        rate = np.random.normal(dom_bkg_mu, dom_bkg_sig, size=ndom).astype(np.uint32)\n",
    "        ana.buffer_analysis.append(rate)\n",
    "        ana.update_analyses(rate)\n",
    "\n",
    "    # Feed bins to align followup window with PySNDAQ's search windows\n",
    "    for i in range(nbins_fill_leading):\n",
    "        rate = np.random.normal(dom_bkg_mu, dom_bkg_sig, size=ndom).astype(np.uint32)\n",
    "        ana.buffer_analysis.append(rate)\n",
    "        ana.update_analyses(rate)\n",
    "\n",
    "    # Feed followup window through PySNDAQ's search window (Generate the TS)\n",
    "    for i in range(nbins_window):\n",
    "        rate = np.random.normal(dom_bkg_mu, dom_bkg_sig, size=ndom).astype(np.uint32)\n",
    "        ana.buffer_analysis.append(rate)\n",
    "        ana.update_analyses(rate)\n",
    "\n",
    "        for j, analysis in enumerate(ana.analyses):\n",
    "            signi[i, j]  = analysis.xi    \n",
    "    xi[idx] = signi.max()"
   ]
  },
  {
   "cell_type": "markdown",
   "id": "73fceba4",
   "metadata": {},
   "source": [
    "## Plot Results"
   ]
  },
  {
   "cell_type": "code",
   "execution_count": 4,
   "id": "e2e88879",
   "metadata": {},
   "outputs": [
    {
     "data": {
      "text/plain": [
       "Text(0.5, 1.0, 'Fit Results: $\\\\mu$=2.97, $\\\\sigma$=0.35')"
      ]
     },
     "execution_count": 4,
     "metadata": {},
     "output_type": "execute_result"
    },
    {
     "data": {
      "image/png": "[encoded data removed]",
      "text/plain": [
       "<Figure size 640x480 with 1 Axes>"
      ]
     },
     "metadata": {},
     "output_type": "display_data"
    }
   ],
   "source": [
    "import matplotlib.pyplot as plt\n",
    "from scipy.stats import norm\n",
    "\n",
    "mean,std=norm.fit(xi)\n",
    "x = np.linspace(2,4, 101)\n",
    "\n",
    "plt.hist(xi, bins=100)\n",
    "plt.plot(x, norm.pdf(x, loc=mean, scale=std), 'k')\n",
    "plt.xlabel(fr\"Best 1 s bin in 100 s, N={n_samples} [$\\xi$]\")\n",
    "plt.title(fr\"Fit Results: $\\mu$={mean:4.2f}, $\\sigma$={std:4.2f}\")"
   ]
  },
  {
   "cell_type": "markdown",
   "id": "a3303604",
   "metadata": {},
   "source": [
    "## Profiling\n",
    "\n",
    "Done with `%%timeit` IPython Magic function\n",
    "\n",
    "With `binnings = [1000]` (2 binned analyses):\n",
    "```\n",
    "- 786 ms ± 87 ms per loop (mean ± std. dev. of 7 runs, 1 loop each)\n",
    "```\n",
    "\n",
    "With default, `binnings = [500, 1500, 4000, 10000]` (32 binned analyses):\n",
    "```\n",
    "- 4.21 s ± 205 ms per loop (mean ± std. dev. of 7 runs, 1 loop each)\n",
    "```"
   ]
  },
  {
   "cell_type": "code",
   "execution_count": 5,
   "id": "4823d925",
   "metadata": {},
   "outputs": [
    {
     "name": "stdout",
     "output_type": "stream",
     "text": [
      "Real time: 78.6000 s\n",
      "Processed time: 86250.0 s\n",
      "RtP Ratio: 0.0009\n"
     ]
    }
   ],
   "source": [
    "t_per_sample = 0.786  # seconds\n",
    "runtime = t_per_sample * n_samples  # This is an estimate\n",
    "ratio = runtime / ana.current_time\n",
    "\n",
    "print(f\"Real time: {runtime:.4f} s\")\n",
    "print(f\"Processed time: {ana.current_time} s\")\n",
    "print(f\"RtP Ratio: {ratio:.4f}\")  # Ratio of real time to processed time, smaller is better"
   ]
  },
  {
   "cell_type": "markdown",
   "id": "45069c8a",
   "metadata": {},
   "source": [
    "## Debug"
   ]
  },
  {
   "cell_type": "code",
   "execution_count": 6,
   "id": "ed81339c",
   "metadata": {},
   "outputs": [
    {
     "name": "stdout",
     "output_type": "stream",
     "text": [
      "\n",
      "Search #1 : 1.0  +0.0 s\n",
      "   max xi : 2.70  @ bin t=36.5s from window start\n",
      "\n",
      "Search #2 : 1.0  +0.5 s\n",
      "   max xi : 2.54  @ bin t=8.5s from window start\n"
     ]
    }
   ],
   "source": [
    "for i, (analysis, xi) in enumerate(zip(ana.analyses, signi.T), start=1):\n",
    "    print(f\"\\nSearch #{i:<2d}: {analysis.binsize/1e3:<4.1f} +{analysis.offset/1e3:<4.1f}s\\n\"\n",
    "          f\"   max xi : {xi.max():4.2f}  @ bin t={xi.argmax()*0.5}s from window start\")"
   ]
  },
  {
   "cell_type": "markdown",
   "id": "a06c1713",
   "metadata": {},
   "source": [
    "## Sanity checks on background mean and rate variance (USE AS UNITTEST)"
   ]
  },
  {
   "cell_type": "code",
   "execution_count": 7,
   "id": "fd7abd31",
   "metadata": {
    "scrolled": false
   },
   "outputs": [
    {
     "name": "stdout",
     "output_type": "stream",
     "text": [
      "\n",
      "Search #1 : 1.0 +0.0 s\n",
      "rebin mean: 278.9887, rebin var: 965.9386\n",
      "  ana mean: 278.9887,   ana var: 965.9386\n",
      "\n",
      "\n",
      "Search #2 : 1.0 +0.5 s\n",
      "rebin mean: 278.9884, rebin var: 966.1074\n",
      "  ana mean: 278.9884,   ana var: 966.1074\n",
      "\n"
     ]
    }
   ],
   "source": [
    "buffer = ana.buffer_analysis.data\n",
    "for i, search in enumerate(ana.analyses, start=1):\n",
    "    idx_bg = np.hstack([\n",
    "        np.arange(search.idx_bgl, search.idx_eod),\n",
    "        np.arange(search.idx_bgt, search.idx_ext)\n",
    "    ])\n",
    "    rebin = np.sum(np.split(buffer[idx_bg], search.nbin_bg), axis=1)\n",
    "    print(f\"\\nSearch #{i:<2d}:{search.binsize/1e3:4.1f} +{search.offset/1e3:<4.1f}s\")\n",
    "    print(f\"rebin mean: {rebin.mean():7.4f}, rebin var: {rebin.var(axis=0).mean():7.4f}\\n\"\n",
    "          f\"  ana mean: {search.mean.mean():7.4f},   ana var: {search.var.mean():7.4f}\\n\")"
   ]
  },
  {
   "cell_type": "code",
   "execution_count": 8,
   "id": "09e6843c",
   "metadata": {
    "scrolled": false
   },
   "outputs": [
    {
     "name": "stdout",
     "output_type": "stream",
     "text": [
      "\n",
      "Search #0  : 1.0 +0.0 s\n",
      "       eod : 1325 \n",
      "       bgl : 725  \n",
      "       exl : 665  \n",
      "        sw : 663  \n",
      "       ext : 603  \n",
      "       bgt : 3    \n",
      "\n",
      "Search #1  : 1.0 +0.5 s\n",
      "       eod : 1324 \n",
      "       bgl : 724  \n",
      "       exl : 664  \n",
      "        sw : 662  \n",
      "       ext : 602  \n",
      "       bgt : 2    \n"
     ]
    }
   ],
   "source": [
    "for i, search in enumerate(ana.analyses):\n",
    "    idc_debug = {\n",
    "        'eod': search.idx_eod,\n",
    "        'bgl': search.idx_bgl,\n",
    "        'exl': search.idx_exl,\n",
    "        'sw':  search.idx_sw,\n",
    "        'ext': search.idx_ext,\n",
    "        'bgt': search.idx_bgt\n",
    "    }\n",
    "    \n",
    "    print(f\"\\nSearch #{i:<2d} :{search.binsize/1e3:4.1f} +{search.offset/1e3:<4.1f}s\")\n",
    "    for key, val in idc_debug.items():\n",
    "        print(f\"{key:>10s} : {val:<5d}\")"
   ]
  },
  {
   "cell_type": "code",
   "execution_count": null,
   "id": "5f2e7de1",
   "metadata": {},
   "outputs": [],
   "source": []
  }
 ],
 "metadata": {
  "kernelspec": {
   "display_name": "Python 3 (ipykernel)",
   "language": "python",
   "name": "python3"
  },
  "language_info": {
   "codemirror_mode": {
    "name": "ipython",
    "version": 3
   },
   "file_extension": ".py",
   "mimetype": "text/x-python",
   "name": "python",
   "nbconvert_exporter": "python",
   "pygments_lexer": "ipython3",
   "version": "3.10.11"
  }
 },
 "nbformat": 4,
 "nbformat_minor": 5
}
