{
 "cells": [
  {
   "cell_type": "code",
   "execution_count": 1,
   "metadata": {},
   "outputs": [],
   "source": [
    "import numpy as np\n",
    "from abc import ABC, abstractmethod\n",
    "from collections import deque\n",
    "from numpy_ringbuffer import RingBuffer\n",
    "from functools import partial"
   ]
  },
  {
   "cell_type": "code",
   "execution_count": 2,
   "metadata": {},
   "outputs": [],
   "source": [
    "class sndaqbuffer(ABC):\n",
    "    def __init__(self, size, ndom=5160, dtype=np.uint16):\n",
    "        self._size = size\n",
    "        self._ndom = ndom\n",
    "        self._dtype = dtype \n",
    "        super().__init__()\n",
    "        \n",
    "    @abstractmethod\n",
    "    def append(self, entry):\n",
    "        ...\n",
    "        \n",
    "    @abstractmethod\n",
    "    def clear(self):\n",
    "        ...\n",
    "    \n",
    "    def __getitem__(self, key):\n",
    "        return self.data[key]\n",
    "    \n",
    "    @property\n",
    "    @abstractmethod\n",
    "    def data(self):\n",
    "        ...\n"
   ]
  },
  {
   "cell_type": "code",
   "execution_count": 3,
   "metadata": {},
   "outputs": [],
   "source": [
    "class rollingbuffer(sndaqbuffer):\n",
    "    def __init__(self, size, ndom=5160, dtype=np.uint16):\n",
    "        super().__init__(size, ndom, dtype)\n",
    "        self.clear()\n",
    "    \n",
    "    def append(self, entry):\n",
    "        self._data = np.roll(self._data, -11, axis=0)\n",
    "        self._data[-1,:] = entry\n",
    "    \n",
    "    def clear(self):\n",
    "        self._data = np.zeros(shape=(self._size, self._ndom),\n",
    "                              dtype=self._dtype)\n",
    "    @property\n",
    "    def data(self):\n",
    "        return self._data\n",
    "    "
   ]
  },
  {
   "cell_type": "code",
   "execution_count": 4,
   "metadata": {},
   "outputs": [],
   "source": [
    "class windowbuffer(sndaqbuffer):\n",
    "    def __init__(self, size, ndom=5160, dtype=np.uint16, mult=2):\n",
    "        super().__init__(size, ndom, dtype)\n",
    "        self._mult = mult\n",
    "        self._buflen = self._size*self._mult\n",
    "        self.clear()\n",
    "    \n",
    "    def append(self, entry):\n",
    "        if self._idx >= self._buflen:\n",
    "            self._reset()\n",
    "        self._data[self._idx,:] = entry\n",
    "        self._idx += 1\n",
    "        return self\n",
    "            \n",
    "    def clear(self):\n",
    "        self._data = np.zeros(shape=(self._buflen, self._ndom),\n",
    "                              dtype=self._dtype)\n",
    "        self._idx = self._size\n",
    "    \n",
    "    def _reset(self):\n",
    "        self._idx = self._size\n",
    "        self._data[:self._size,:] = self._data[-self._size:,:]\n",
    "        \n",
    "    def __getitem__(self, key):\n",
    "        return self.data[key]\n",
    "        \n",
    "    @property\n",
    "    def data(self):\n",
    "        return self._data[self._idx-self._size:self._idx,:]"
   ]
  },
  {
   "cell_type": "code",
   "execution_count": 5,
   "metadata": {},
   "outputs": [],
   "source": [
    "class ringbuf(sndaqbuffer):\n",
    "    def __init__(self, size, ndom=5160, dtype=np.uint16):\n",
    "        super().__init__(size, ndom, dtype)\n",
    "        self.clear()\n",
    "        \n",
    "    def append(self, entry):\n",
    "        self._data.append(entry)\n",
    "        return self\n",
    "        \n",
    "    def clear(self):\n",
    "        self._data = RingBuffer(capacity=size, dtype=(self._dtype, self._ndom))\n",
    "        \n",
    "    @property\n",
    "    def data(self):\n",
    "        return self._data\n",
    "\n"
   ]
  },
  {
   "cell_type": "code",
   "execution_count": 6,
   "metadata": {},
   "outputs": [
    {
     "name": "stdout",
     "output_type": "stream",
     "text": [
      "windowbuffer Append data\n",
      "2.53 s ± 41.9 ms per loop (mean ± std. dev. of 3 runs, 1 loop each)\n",
      "ringbuf Append data\n",
      "2.57 s ± 9.65 ms per loop (mean ± std. dev. of 3 runs, 1 loop each)\n",
      "windowbuffer Append + get data\n",
      "2.57 s ± 17 ms per loop (mean ± std. dev. of 3 runs, 1 loop each)\n",
      "ringbuf Append + get data\n",
      "2.6 s ± 25.7 ms per loop (mean ± std. dev. of 3 runs, 1 loop each)\n",
      "windowbuffer Append + get slice of data\n",
      "2.64 s ± 36 ms per loop (mean ± std. dev. of 3 runs, 1 loop each)\n"
     ]
    }
   ],
   "source": [
    "size = int(90/.002)\n",
    "buffers = []\n",
    "# buffers.append(rollingbuffer(size))  # WAY TOO SLOW\n",
    "buffers.append(windowbuffer(size))\n",
    "buffers.append(ringbuf(size))\n",
    "rcol = partial(np.random.randint, low=100, dtype=np.uint16, size=5160)\n",
    "\n",
    "for buf in buffers:\n",
    "    print(type(buf).__name__ + \" Append data\")\n",
    "    %timeit -n1 -r3 for i in range(int(size*1.5)): buf.append(rcol())\n",
    "\n",
    "for buf in buffers:\n",
    "    print(type(buf).__name__ + \" Append + get data\")\n",
    "    %timeit -n1 -r3 for i in range(int(size*1.5)): buf.append(rcol()).data\n",
    "\n",
    "for buf in buffers[:-1]: # Too slow for ringbuf (doesn't finish)\n",
    "    print(type(buf).__name__ + \" Append + get slice of data\")\n",
    "    %timeit -n1 -r3 for i in range(int(size*1.5)): buf.append(rcol())[0:size//4]\n"
   ]
  },
  {
   "cell_type": "code",
   "execution_count": null,
   "metadata": {},
   "outputs": [],
   "source": []
  }
 ],
 "metadata": {
  "kernelspec": {
   "display_name": "Python 3",
   "language": "python",
   "name": "python3"
  },
  "language_info": {
   "codemirror_mode": {
    "name": "ipython",
    "version": 3
   },
   "file_extension": ".py",
   "mimetype": "text/x-python",
   "name": "python",
   "nbconvert_exporter": "python",
   "pygments_lexer": "ipython3",
   "version": "3.5.3"
  },
  "latex_envs": {
   "LaTeX_envs_menu_present": true,
   "autoclose": false,
   "autocomplete": true,
   "bibliofile": "biblio.bib",
   "cite_by": "apalike",
   "current_citInitial": 1,
   "eqLabelWithNumbers": true,
   "eqNumInitial": 1,
   "hotkeys": {
    "equation": "Ctrl-E",
    "itemize": "Ctrl-I"
   },
   "labels_anchors": false,
   "latex_user_defs": false,
   "report_style_numbering": false,
   "user_envs_cfg": false
  },
  "varInspector": {
   "cols": {
    "lenName": 16,
    "lenType": 16,
    "lenVar": 40
   },
   "kernels_config": {
    "python": {
     "delete_cmd_postfix": "",
     "delete_cmd_prefix": "del ",
     "library": "var_list.py",
     "varRefreshCmd": "print(var_dic_list())"
    },
    "r": {
     "delete_cmd_postfix": ") ",
     "delete_cmd_prefix": "rm(",
     "library": "var_list.r",
     "varRefreshCmd": "cat(var_dic_list()) "
    }
   },
   "position": {
    "height": "354px",
    "left": "826px",
    "right": "20px",
    "top": "165px",
    "width": "579px"
   },
   "types_to_exclude": [
    "module",
    "function",
    "builtin_function_or_method",
    "instance",
    "_Feature"
   ],
   "window_display": false
  }
 },
 "nbformat": 4,
 "nbformat_minor": 2
}
