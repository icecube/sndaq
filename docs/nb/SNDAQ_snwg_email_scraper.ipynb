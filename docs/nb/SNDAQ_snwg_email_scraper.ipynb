{
 "cells": [
  {
   "cell_type": "markdown",
   "metadata": {},
   "source": [
    "# SNDAQ Alert History\n",
    "\n",
    "This scrapes the sn-wg mailing list for alert messages about supernova candidates. Ideally this data should be grabbed from i3live..."
   ]
  },
  {
   "cell_type": "code",
   "execution_count": 80,
   "metadata": {},
   "outputs": [],
   "source": [
    "from bs4 import BeautifulSoup\n",
    "\n",
    "from datetime import datetime\n",
    "from requests import get\n",
    "from requests.auth import HTTPBasicAuth"
   ]
  },
  {
   "cell_type": "code",
   "execution_count": 81,
   "metadata": {},
   "outputs": [],
   "source": [
    "months = ['January', 'February', 'March',     'April',   'May',      'June',\n",
    "          'July',    'August'  , 'September', 'October', 'November', 'December']"
   ]
  },
  {
   "cell_type": "markdown",
   "metadata": {},
   "source": [
    "## Web Scraper\n",
    "\n",
    "Use `requests` and `BeautifulSoup` to read the sn-wg mailing list mailman posts and extract the candidate information from the subject line of emails sent to the page."
   ]
  },
  {
   "cell_type": "code",
   "execution_count": 87,
   "metadata": {},
   "outputs": [],
   "source": [
    "def get_alert_data(year=2019, month=1):\n",
    "    \"\"\"Get all alert information for a given year and month from the sn-wg mailing list.\n",
    "    \n",
    "    Parameters\n",
    "    ==========\n",
    "    year : int\n",
    "        The year [20xx].\n",
    "    month : int\n",
    "        The month [1..12].\n",
    "    \"\"\"\n",
    "    # Grab the data from the current month.\n",
    "    url = r'http://lists.icecube.wisc.edu/pipermail/sn-wg/{}-{}/date.html'.format(year, months[month-1])\n",
    "    r = get(url, auth=HTTPBasicAuth('icecube', 'skua'))\n",
    "    soup = BeautifulSoup(r.text)\n",
    "    \n",
    "    # Parse the data for candidate alert emails.\n",
    "    alerts = []\n",
    "    \n",
    "    anchors = soup.find_all('a')\n",
    "    for anchor in anchors:\n",
    "        if 'significance SN candidate' in anchor.text:\n",
    "            i = 0\n",
    "            if 'ATTENTION' in anchor.text or 'LocalTestSystem' in anchor.text:\n",
    "                i = 1\n",
    "            tokens = anchor.text.strip().split()\n",
    "\n",
    "            sig_cor, sig_raw = [float(t) for t in (tokens[1+i], tokens[3+i])]\n",
    "            run_id = int(tokens[15+i][1:])\n",
    "\n",
    "            date_str = ' '.join(tokens[17+i:19+i])\n",
    "            frac_sec = date_str.find('.')\n",
    "            alert_date = datetime.strptime(date_str[:frac_sec], '%Y-%m-%d %H:%M:%S')\n",
    "            if alert_date < datetime(2017,2,21):\n",
    "                continue\n",
    "            \n",
    "            alert = [sig_cor, sig_raw, run_id, alert_date]\n",
    "            alerts.append(alert)\n",
    "            \n",
    "    return alerts"
   ]
  },
  {
   "cell_type": "markdown",
   "metadata": {},
   "source": [
    "## Access Data\n",
    "\n",
    "Grab data from 2018 and 2019."
   ]
  },
  {
   "cell_type": "code",
   "execution_count": 88,
   "metadata": {},
   "outputs": [],
   "source": [
    "with open('sndaq_alerts_2017.txt', 'w') as f:\n",
    "    f.write('# sig_cor sig_raw run_id date\\n')\n",
    "    for month in range(1, 13):\n",
    "        alerts = get_alert_data(2017, month)\n",
    "        for alert in alerts:\n",
    "            scor, sraw, run, date = alert\n",
    "#             print('{:8.3g} {:8.3g} {:12d}   {}'.format(scor, sraw, run, date))\n",
    "            f.write('{:8.3g} {:8.3g} {:12d}   {}\\n'.format(scor, sraw, run, date))"
   ]
  },
  {
   "cell_type": "code",
   "execution_count": 78,
   "metadata": {},
   "outputs": [],
   "source": [
    "with open('sndaq_alerts_2018.txt', 'w') as f:\n",
    "    f.write('# sig_cor sig_raw run_id date\\n')\n",
    "    for month in range(1, 13):\n",
    "        alerts = get_alert_data(2018, month)\n",
    "        for alert in alerts:\n",
    "            scor, sraw, run, date = alert\n",
    "#             print('{:8.3g} {:8.3g} {:12d}   {}'.format(scor, sraw, run, date))\n",
    "            f.write('{:8.3g} {:8.3g} {:12d}   {}\\n'.format(scor, sraw, run, date))"
   ]
  },
  {
   "cell_type": "code",
   "execution_count": 79,
   "metadata": {},
   "outputs": [],
   "source": [
    "with open('sndaq_alerts_2019.txt', 'w') as f:\n",
    "    f.write('# sig_cor sig_raw run_id date\\n')\n",
    "    for month in range(1, 10):\n",
    "        alerts = get_alert_data(2019, month)\n",
    "        for alert in alerts:\n",
    "            scor, sraw, run, date = alert\n",
    "#             print('{:8.3g} {:8.3g} {:12d}   {}'.format(scor, sraw, run, date))\n",
    "            f.write('{:8.3g} {:8.3g} {:12d}   {}\\n'.format(scor, sraw, run, date))"
   ]
  },
  {
   "cell_type": "code",
   "execution_count": null,
   "metadata": {},
   "outputs": [],
   "source": []
  }
 ],
 "metadata": {
  "kernelspec": {
   "display_name": "Python [conda env:icecube] *",
   "language": "python",
   "name": "conda-env-icecube-py"
  },
  "language_info": {
   "codemirror_mode": {
    "name": "ipython",
    "version": 3
   },
   "file_extension": ".py",
   "mimetype": "text/x-python",
   "name": "python",
   "nbconvert_exporter": "python",
   "pygments_lexer": "ipython3",
   "version": "3.7.4"
  }
 },
 "nbformat": 4,
 "nbformat_minor": 2
}
